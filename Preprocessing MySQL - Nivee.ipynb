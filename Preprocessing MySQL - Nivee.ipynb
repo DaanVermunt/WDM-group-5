{
 "cells": [
  {
   "cell_type": "markdown",
   "metadata": {},
   "source": [
    "### Pre-Processing \n",
    "##### Let us first have a look at the listings.csv"
   ]
  },
  {
   "cell_type": "code",
   "execution_count": 2,
   "metadata": {},
   "outputs": [
    {
     "name": "stderr",
     "output_type": "stream",
     "text": [
      "C:\\Users\\Nivedita Prasad\\Anaconda3\\envs\\py36\\lib\\site-packages\\IPython\\core\\interactiveshell.py:2785: DtypeWarning: Columns (3,13,14,16,25,37,40,58,59,67,84,85,91,98,99) have mixed types. Specify dtype option on import or set low_memory=False.\n",
      "  interactivity=interactivity, compiler=compiler, result=result)\n"
     ]
    }
   ],
   "source": [
    "import pandas as pd\n",
    "listings = pd.read_csv(\"listings_5.csv\")\n",
    "#print(listings.head(5))\n",
    "#print (len(listings)) #145462"
   ]
  },
  {
   "cell_type": "code",
   "execution_count": 4,
   "metadata": {},
   "outputs": [
    {
     "name": "stdout",
     "output_type": "stream",
     "text": [
      "Index(['id', 'listing_url', 'scrape_id', 'last_searched', 'last_scraped',\n",
      "       'name', 'summary', 'space', 'description', 'experiences_offered',\n",
      "       'neighborhood_overview', 'notes', 'transit', 'thumbnail_url',\n",
      "       'medium_url', 'picture_url', 'xl_picture_url', 'host_id', 'host_url',\n",
      "       'host_name', 'host_since', 'host_location', 'host_about',\n",
      "       'host_response_time', 'host_response_rate', 'host_acceptance_rate',\n",
      "       'host_is_superhost', 'host_thumbnail_url', 'host_picture_url',\n",
      "       'host_neighbourhood', 'host_listings_count',\n",
      "       'host_total_listings_count', 'host_verifications',\n",
      "       'host_has_profile_pic', 'host_identity_verified', 'street',\n",
      "       'neighbourhood', 'neighbourhood_cleansed', 'city', 'state', 'zipcode',\n",
      "       'market', 'smart_location', 'country_code', 'country', 'latitude',\n",
      "       'longitude', 'is_location_exact', 'property_type', 'room_type',\n",
      "       'accommodates', 'bathrooms', 'bedrooms', 'beds', 'bed_type',\n",
      "       'amenities', 'square_feet', 'price', 'weekly_price', 'monthly_price',\n",
      "       'security_deposit', 'cleaning_fee', 'guests_included', 'extra_people',\n",
      "       'minimum_nights', 'maximum_nights', 'calendar_updated',\n",
      "       'has_availability', 'availability_30', 'availability_60',\n",
      "       'availability_90', 'availability_365', 'calendar_last_scraped',\n",
      "       'number_of_reviews', 'first_review', 'last_review',\n",
      "       'review_scores_rating', 'review_scores_accuracy',\n",
      "       'review_scores_cleanliness', 'review_scores_checkin',\n",
      "       'review_scores_communication', 'review_scores_location',\n",
      "       'review_scores_value', 'requires_license', 'license',\n",
      "       'jurisdiction_names', 'instant_bookable', 'cancellation_policy',\n",
      "       'require_guest_profile_picture', 'require_guest_phone_verification',\n",
      "       'region_id', 'region_name', 'region_parent_id',\n",
      "       'calculated_host_listings_count', 'reviews_per_month', 'access',\n",
      "       'interaction', 'house_rules', 'neighbourhood_group_cleansed',\n",
      "       'is_business_travel_ready'],\n",
      "      dtype='object')\n",
      "2746729\n"
     ]
    },
    {
     "name": "stderr",
     "output_type": "stream",
     "text": [
      "C:\\Users\\Nivedita Prasad\\Anaconda3\\envs\\py36\\lib\\site-packages\\ipykernel\\__main__.py:4: FutureWarning: get_value is deprecated and will be removed in a future release. Please use .at[] or .iat[] accessors instead\n"
     ]
    }
   ],
   "source": [
    "# View the column names\n",
    "print(listings.columns) \n",
    "#Get_value command\n",
    "print(listings.get_value(1,'id') )"
   ]
  },
  {
   "cell_type": "markdown",
   "metadata": {},
   "source": [
    "#### Lets take a look at all the values of row 2 corresponding to all the columns of listings dataferame"
   ]
  },
  {
   "cell_type": "code",
   "execution_count": 5,
   "metadata": {},
   "outputs": [
    {
     "name": "stdout",
     "output_type": "stream",
     "text": [
      "id | int64 | 6919450\n",
      "listing_url | object | https://www.airbnb.com/rooms/6919450\n",
      "scrape_id | int64 | 20160417215614\n",
      "last_searched | object | 2016-04-19\n",
      "last_scraped | object | 2016-04-22\n",
      "name | object | Good size bedroom,  private\n",
      "summary | object | Asheville is a great place to visit.  If you are in between homes, on business,  or just need to get away; this is the place to be. We are located on a few minutes from downtown,  but the country feel of the Carolinas. Small quaint neighborhood.\n",
      "space | object | nan\n",
      "description | object | Asheville is a great place to visit.  If you are in between homes, on business,  or just need to get away; this is the place to be. We are located on a few minutes from downtown,  but the country feel of the Carolinas. Small quaint neighborhood.\n",
      "experiences_offered | object | none\n",
      "neighborhood_overview | object | nan\n",
      "notes | object | nan\n",
      "transit | object | nan\n",
      "thumbnail_url | object | https://a1.muscache.com/im/pictures/88315390/3c057a66_original.jpg?aki_policy=small\n",
      "medium_url | object | https://a1.muscache.com/im/pictures/88315390/3c057a66_original.jpg?aki_policy=medium\n",
      "picture_url | object | https://a1.muscache.com/im/pictures/88315390/3c057a66_original.jpg?aki_policy=large\n",
      "xl_picture_url | object | https://a1.muscache.com/im/pictures/88315390/3c057a66_original.jpg?aki_policy=x_large\n",
      "host_id | int64 | 36223353\n",
      "host_url | object | https://www.airbnb.com/users/show/36223353\n",
      "host_name | object | Diana\n",
      "host_since | object | 2015-06-19\n",
      "host_location | object | Asheville, North Carolina, United States\n",
      "host_about | object | single mother of 2. I work a full time job at the hospital and just need to have some spending money.  Not out to get rich.  I like meeting new people and I have a room for rent.  Short term only, pets available for additional $20 per day.  Pet must get along with mine. I have a rescue that is 1 year old about 45 lbs and loves to play. I have a fenced yard for them and a wonderful neighborhood to walk in.  If you bring your dog we need to meet somewhere prior to you renting to see if they will get along. \r\n",
      "\n",
      "host_response_time | object | nan\n",
      "host_response_rate | object | nan\n",
      "host_acceptance_rate | object | nan\n",
      "host_is_superhost | object | f\n",
      "host_thumbnail_url | object | https://a0.muscache.com/im/users/36223353/profile_pic/1434743659/original.jpg?aki_policy=profile_small\n",
      "host_picture_url | object | https://a0.muscache.com/im/users/36223353/profile_pic/1434743659/original.jpg?aki_policy=profile_x_medium\n",
      "host_neighbourhood | object | nan\n",
      "host_listings_count | float64 | 1.0\n",
      "host_total_listings_count | float64 | 1.0\n",
      "host_verifications | object | ['phone', 'facebook']\n",
      "host_has_profile_pic | object | t\n",
      "host_identity_verified | object | f\n",
      "street | object | Sunset Dr, Asheville, NC 28806, United States\n",
      "neighbourhood | object | nan\n",
      "neighbourhood_cleansed | object | 28806\n",
      "city | object | Asheville\n",
      "state | object | NC\n",
      "zipcode | object | 28806.0\n",
      "market | object | North Carolina Mountains\n",
      "smart_location | object | Asheville, NC\n",
      "country_code | object | US\n",
      "country | object | United States\n",
      "latitude | float64 | 35.626599898274655\n",
      "longitude | float64 | -82.63761794784351\n",
      "is_location_exact | object | f\n",
      "property_type | object | House\n",
      "room_type | object | Private room\n",
      "accommodates | int64 | 1\n",
      "bathrooms | float64 | 1.0\n",
      "bedrooms | float64 | 1.0\n",
      "beds | float64 | 1.0\n",
      "bed_type | object | Real Bed\n",
      "amenities | object | {TV,\"Wireless Internet\",\"Air Conditioning\",Kitchen,\"Free Parking on Premises\",\"Pets Allowed\",\"Pets live on this property\",Heating,\"Family/Kid Friendly\",Washer,Dryer,\"Smoke Detector\",\"Carbon Monoxide Detector\",\"Fire Extinguisher\",Essentials,Shampoo}\n",
      "square_feet | float64 | nan\n",
      "price | object | $45.00\n",
      "weekly_price | object | nan\n",
      "monthly_price | object | nan\n",
      "security_deposit | object | nan\n",
      "cleaning_fee | object | $25.00\n",
      "guests_included | int64 | 1\n",
      "extra_people | object | $0.00\n",
      "minimum_nights | int64 | 1\n",
      "maximum_nights | int64 | 1125\n",
      "calendar_updated | object | 4 months ago\n",
      "has_availability | object | nan\n",
      "availability_30 | int64 | 29\n",
      "availability_60 | int64 | 59\n",
      "availability_90 | int64 | 89\n",
      "availability_365 | int64 | 364\n",
      "calendar_last_scraped | object | 2016-04-22\n",
      "number_of_reviews | int64 | 0\n",
      "first_review | object | nan\n",
      "last_review | object | nan\n",
      "review_scores_rating | float64 | nan\n",
      "review_scores_accuracy | float64 | nan\n",
      "review_scores_cleanliness | float64 | nan\n",
      "review_scores_checkin | float64 | nan\n",
      "review_scores_communication | float64 | nan\n",
      "review_scores_location | float64 | nan\n",
      "review_scores_value | float64 | nan\n",
      "requires_license | object | f\n",
      "license | object | nan\n",
      "jurisdiction_names | object | NORTH CAROLINA, NORTH CAROLINA, BUNCOMBE\n",
      "instant_bookable | object | f\n",
      "cancellation_policy | object | flexible\n",
      "require_guest_profile_picture | object | f\n",
      "require_guest_phone_verification | object | f\n",
      "region_id | float64 | 21.0\n",
      "region_name | object | Buncombe\n",
      "region_parent_id | float64 | 37.0\n",
      "calculated_host_listings_count | float64 | nan\n",
      "reviews_per_month | float64 | nan\n",
      "access | object | nan\n",
      "interaction | object | nan\n",
      "house_rules | object | nan\n",
      "neighbourhood_group_cleansed | object | nan\n",
      "is_business_travel_ready | object | nan\n"
     ]
    },
    {
     "name": "stderr",
     "output_type": "stream",
     "text": [
      "C:\\Users\\Nivedita Prasad\\Anaconda3\\envs\\py36\\lib\\site-packages\\ipykernel\\__main__.py:2: FutureWarning: get_value is deprecated and will be removed in a future release. Please use .at[] or .iat[] accessors instead\n",
      "  from ipykernel import kernelapp as app\n"
     ]
    }
   ],
   "source": [
    "for col in listings.columns:\n",
    "    print(col,'|' ,listings.dtypes[col], '|' , listings.get_value(2,col))"
   ]
  },
  {
   "cell_type": "markdown",
   "metadata": {},
   "source": [
    "##### Let us now, fill all the rows of listings with NaN to 0 and simultaneously check if all the cols having NaN are flled with 0 or not"
   ]
  },
  {
   "cell_type": "code",
   "execution_count": 6,
   "metadata": {},
   "outputs": [
    {
     "name": "stdout",
     "output_type": "stream",
     "text": [
      "id | 0\n",
      "listing_url | 0\n",
      "scrape_id | 0\n",
      "last_searched | 0\n",
      "last_scraped | 0\n",
      "name | 0\n",
      "summary | 0\n",
      "space | 0\n",
      "description | 0\n",
      "experiences_offered | 0\n",
      "neighborhood_overview | 0\n",
      "notes | 0\n",
      "transit | 0\n",
      "thumbnail_url | 0\n",
      "medium_url | 0\n",
      "picture_url | 0\n",
      "xl_picture_url | 0\n",
      "host_id | 0\n",
      "host_url | 0\n",
      "host_name | 0\n",
      "host_since | 0\n",
      "host_location | 0\n",
      "host_about | 0\n",
      "host_response_time | 0\n",
      "host_response_rate | 0\n",
      "host_acceptance_rate | 0\n",
      "host_is_superhost | 0\n",
      "host_thumbnail_url | 0\n",
      "host_picture_url | 0\n",
      "host_neighbourhood | 0\n",
      "host_listings_count | 0\n",
      "host_total_listings_count | 0\n",
      "host_verifications | 0\n",
      "host_has_profile_pic | 0\n",
      "host_identity_verified | 0\n",
      "street | 0\n",
      "neighbourhood | 0\n",
      "neighbourhood_cleansed | 0\n",
      "city | 0\n",
      "state | 0\n",
      "zipcode | 0\n",
      "market | 0\n",
      "smart_location | 0\n",
      "country_code | 0\n",
      "country | 0\n",
      "latitude | 0\n",
      "longitude | 0\n",
      "is_location_exact | 0\n",
      "property_type | 0\n",
      "room_type | 0\n",
      "accommodates | 0\n",
      "bathrooms | 0\n",
      "bedrooms | 0\n",
      "beds | 0\n",
      "bed_type | 0\n",
      "amenities | 0\n",
      "square_feet | 0\n",
      "price | 0\n",
      "weekly_price | 0\n",
      "monthly_price | 0\n",
      "security_deposit | 0\n",
      "cleaning_fee | 0\n",
      "guests_included | 0\n",
      "extra_people | 0\n",
      "minimum_nights | 0\n",
      "maximum_nights | 0\n",
      "calendar_updated | 0\n",
      "has_availability | 0\n",
      "availability_30 | 0\n",
      "availability_60 | 0\n",
      "availability_90 | 0\n",
      "availability_365 | 0\n",
      "calendar_last_scraped | 0\n",
      "number_of_reviews | 0\n",
      "first_review | 0\n",
      "last_review | 0\n",
      "review_scores_rating | 0\n",
      "review_scores_accuracy | 0\n",
      "review_scores_cleanliness | 0\n",
      "review_scores_checkin | 0\n",
      "review_scores_communication | 0\n",
      "review_scores_location | 0\n",
      "review_scores_value | 0\n",
      "requires_license | 0\n",
      "license | 0\n",
      "jurisdiction_names | 0\n",
      "instant_bookable | 0\n",
      "cancellation_policy | 0\n",
      "require_guest_profile_picture | 0\n",
      "require_guest_phone_verification | 0\n",
      "region_id | 0\n",
      "region_name | 0\n",
      "region_parent_id | 0\n",
      "calculated_host_listings_count | 0\n",
      "reviews_per_month | 0\n",
      "access | 0\n",
      "interaction | 0\n",
      "house_rules | 0\n",
      "neighbourhood_group_cleansed | 0\n",
      "is_business_travel_ready | 0\n"
     ]
    }
   ],
   "source": [
    "for col in listings.columns:\n",
    "    \n",
    "    listings[col] = listings[col].fillna(0)\n",
    "    print(col,'|',listings[col].isnull().sum())"
   ]
  },
  {
   "cell_type": "markdown",
   "metadata": {},
   "source": [
    "##### Let us now remove the $ and , from the columns that contain money values like price, etc and make it a float"
   ]
  },
  {
   "cell_type": "code",
   "execution_count": 11,
   "metadata": {
    "scrolled": true
   },
   "outputs": [
    {
     "name": "stderr",
     "output_type": "stream",
     "text": [
      "C:\\Users\\Nivedita Prasad\\Anaconda3\\envs\\py36\\lib\\site-packages\\IPython\\core\\interactiveshell.py:2785: DtypeWarning: Columns (0,1,3,4,14,15,17,26,32,38,41,52,53,59,60,63,65,66,68,74,77,85,86,92,99,100) have mixed types. Specify dtype option on import or set low_memory=False.\n",
      "  interactivity=interactivity, compiler=compiler, result=result)\n"
     ]
    }
   ],
   "source": [
    "import pandas as pd\n",
    "listings1 = pd.read_csv(\"listings_final.csv\")"
   ]
  },
  {
   "cell_type": "code",
   "execution_count": null,
   "metadata": {},
   "outputs": [],
   "source": [
    "c = 145462 #len(listings['price']),extra_people, monthly_price, security_deposit\n",
    "b = \"$,\"\n",
    "for x in range(0, 145462):\n",
    "    for char in b:\n",
    "        listings1['weekly_price'][x] = listings1['weekly_price'][x].replace(char,\"\")\n",
    "        print (listings1['weekly_price'][x],'|',type(listings1['weekly_price'][x]))"
   ]
  },
  {
   "cell_type": "code",
   "execution_count": null,
   "metadata": {},
   "outputs": [],
   "source": [
    "listings1['weekly_price'] = listings1['weekly_price'].apply(pd.to_numeric)\n",
    "type(listings1['weekly_price'])"
   ]
  },
  {
   "cell_type": "code",
   "execution_count": null,
   "metadata": {},
   "outputs": [],
   "source": [
    "listings1['weekly_price'].dtypes"
   ]
  },
  {
   "cell_type": "code",
   "execution_count": null,
   "metadata": {},
   "outputs": [],
   "source": [
    "listings.to_csv(\"D:\\Q4_2018\\Web Data Management\\WDM_Project\\WDM-group-5-master\\WDM-group-5-master\\data\\listings_final.csv\", sep=',', encoding='utf-8')"
   ]
  }
 ],
 "metadata": {
  "kernelspec": {
   "display_name": "Python [conda env:py36]",
   "language": "python",
   "name": "conda-env-py36-py"
  },
  "language_info": {
   "codemirror_mode": {
    "name": "ipython",
    "version": 3
   },
   "file_extension": ".py",
   "mimetype": "text/x-python",
   "name": "python",
   "nbconvert_exporter": "python",
   "pygments_lexer": "ipython3",
   "version": "3.6.5"
  }
 },
 "nbformat": 4,
 "nbformat_minor": 2
}
