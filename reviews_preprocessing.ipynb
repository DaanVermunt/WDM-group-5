{
 "cells": [
  {
   "cell_type": "code",
   "execution_count": 1,
   "metadata": {},
   "outputs": [],
   "source": [
    "import pandas as pd\n",
    "reviews = pd.read_csv(\"reviews_5.csv\")"
   ]
  },
  {
   "cell_type": "code",
   "execution_count": 8,
   "metadata": {},
   "outputs": [
    {
     "data": {
      "text/plain": [
       "3288164"
      ]
     },
     "execution_count": 8,
     "metadata": {},
     "output_type": "execute_result"
    }
   ],
   "source": [
    "len(reviews) # 3288164"
   ]
  },
  {
   "cell_type": "code",
   "execution_count": 2,
   "metadata": {},
   "outputs": [
    {
     "name": "stdout",
     "output_type": "stream",
     "text": [
      "Index(['id', 'listing_url', 'scrape_id', 'last_searched', 'last_scraped',\n",
      "       'name', 'summary', 'space', 'description', 'experiences_offered',\n",
      "       ...\n",
      "       'access', 'interaction', 'house_rules', 'neighbourhood_group_cleansed',\n",
      "       'is_business_travel_ready', 'listing_id', 'date', 'reviewer_id',\n",
      "       'reviewer_name', 'comments'],\n",
      "      dtype='object', length=105)\n",
      "2255411\n"
     ]
    },
    {
     "name": "stderr",
     "output_type": "stream",
     "text": [
      "C:\\Users\\Nivedita Prasad\\Anaconda3\\envs\\py36\\lib\\site-packages\\ipykernel\\__main__.py:4: FutureWarning: get_value is deprecated and will be removed in a future release. Please use .at[] or .iat[] accessors instead\n"
     ]
    }
   ],
   "source": [
    "# View the column names\n",
    "print(reviews.columns) \n",
    "#Get_value command\n",
    "print(reviews.get_value(1,'id') )"
   ]
  },
  {
   "cell_type": "code",
   "execution_count": 4,
   "metadata": {
    "scrolled": true
   },
   "outputs": [
    {
     "name": "stdout",
     "output_type": "stream",
     "text": [
      "id | 0\n",
      "listing_url | 0\n",
      "scrape_id | 0\n",
      "last_searched | 0\n",
      "last_scraped | 0\n",
      "name | 0\n",
      "summary | 0\n",
      "space | 0\n",
      "description | 0\n",
      "experiences_offered | 0\n",
      "neighborhood_overview | 0\n",
      "notes | 0\n",
      "transit | 0\n",
      "thumbnail_url | 0\n",
      "medium_url | 0\n",
      "picture_url | 0\n",
      "xl_picture_url | 0\n",
      "host_id | 0\n",
      "host_url | 0\n",
      "host_name | 0\n",
      "host_since | 0\n",
      "host_location | 0\n",
      "host_about | 0\n",
      "host_response_time | 0\n",
      "host_response_rate | 0\n",
      "host_acceptance_rate | 0\n",
      "host_is_superhost | 0\n",
      "host_thumbnail_url | 0\n",
      "host_picture_url | 0\n",
      "host_neighbourhood | 0\n",
      "host_listings_count | 0\n",
      "host_total_listings_count | 0\n",
      "host_verifications | 0\n",
      "host_has_profile_pic | 0\n",
      "host_identity_verified | 0\n",
      "street | 0\n",
      "neighbourhood | 0\n",
      "neighbourhood_cleansed | 0\n",
      "city | 0\n",
      "state | 0\n",
      "zipcode | 0\n",
      "market | 0\n",
      "smart_location | 0\n",
      "country_code | 0\n",
      "country | 0\n",
      "latitude | 0\n",
      "longitude | 0\n",
      "is_location_exact | 0\n",
      "property_type | 0\n",
      "room_type | 0\n",
      "accommodates | 0\n",
      "bathrooms | 0\n",
      "bedrooms | 0\n",
      "beds | 0\n",
      "bed_type | 0\n",
      "amenities | 0\n",
      "square_feet | 0\n",
      "price | 0\n",
      "weekly_price | 0\n",
      "monthly_price | 0\n",
      "security_deposit | 0\n",
      "cleaning_fee | 0\n",
      "guests_included | 0\n",
      "extra_people | 0\n",
      "minimum_nights | 0\n",
      "maximum_nights | 0\n",
      "calendar_updated | 0\n",
      "has_availability | 0\n",
      "availability_30 | 0\n",
      "availability_60 | 0\n",
      "availability_90 | 0\n",
      "availability_365 | 0\n",
      "calendar_last_scraped | 0\n",
      "number_of_reviews | 0\n",
      "first_review | 0\n",
      "last_review | 0\n",
      "review_scores_rating | 0\n",
      "review_scores_accuracy | 0\n",
      "review_scores_cleanliness | 0\n",
      "review_scores_checkin | 0\n",
      "review_scores_communication | 0\n",
      "review_scores_location | 0\n",
      "review_scores_value | 0\n",
      "requires_license | 0\n",
      "license | 0\n",
      "jurisdiction_names | 0\n",
      "instant_bookable | 0\n",
      "cancellation_policy | 0\n",
      "require_guest_profile_picture | 0\n",
      "require_guest_phone_verification | 0\n",
      "region_id | 0\n",
      "region_name | 0\n",
      "region_parent_id | 0\n",
      "calculated_host_listings_count | 0\n",
      "reviews_per_month | 0\n",
      "access | 0\n",
      "interaction | 0\n",
      "house_rules | 0\n",
      "neighbourhood_group_cleansed | 0\n",
      "is_business_travel_ready | 0\n",
      "listing_id | 0\n",
      "date | 0\n",
      "reviewer_id | 0\n",
      "reviewer_name | 0\n",
      "comments | 0\n"
     ]
    }
   ],
   "source": [
    "for col in reviews.columns:\n",
    "    \n",
    "    reviews[col] = reviews[col].fillna(0)\n",
    "    print(col,'|',reviews[col].isnull().sum())"
   ]
  },
  {
   "cell_type": "code",
   "execution_count": 6,
   "metadata": {},
   "outputs": [
    {
     "name": "stdout",
     "output_type": "stream",
     "text": [
      "id | int64 | 2539714\n",
      "listing_url | float64 | 0.0\n",
      "scrape_id | float64 | 0.0\n",
      "last_searched | float64 | 0.0\n",
      "last_scraped | float64 | 0.0\n",
      "name | float64 | 0.0\n",
      "summary | float64 | 0.0\n",
      "space | float64 | 0.0\n",
      "description | float64 | 0.0\n",
      "experiences_offered | float64 | 0.0\n",
      "neighborhood_overview | float64 | 0.0\n",
      "notes | float64 | 0.0\n",
      "transit | float64 | 0.0\n",
      "thumbnail_url | float64 | 0.0\n",
      "medium_url | float64 | 0.0\n",
      "picture_url | float64 | 0.0\n",
      "xl_picture_url | float64 | 0.0\n",
      "host_id | float64 | 0.0\n",
      "host_url | float64 | 0.0\n",
      "host_name | float64 | 0.0\n",
      "host_since | float64 | 0.0\n",
      "host_location | float64 | 0.0\n",
      "host_about | float64 | 0.0\n",
      "host_response_time | float64 | 0.0\n",
      "host_response_rate | float64 | 0.0\n",
      "host_acceptance_rate | float64 | 0.0\n",
      "host_is_superhost | float64 | 0.0\n",
      "host_thumbnail_url | float64 | 0.0\n",
      "host_picture_url | float64 | 0.0\n",
      "host_neighbourhood | float64 | 0.0\n",
      "host_listings_count | float64 | 0.0\n",
      "host_total_listings_count | float64 | 0.0\n",
      "host_verifications | float64 | 0.0\n",
      "host_has_profile_pic | float64 | 0.0\n",
      "host_identity_verified | float64 | 0.0\n",
      "street | float64 | 0.0\n",
      "neighbourhood | float64 | 0.0\n",
      "neighbourhood_cleansed | float64 | 0.0\n",
      "city | float64 | 0.0\n",
      "state | float64 | 0.0\n",
      "zipcode | float64 | 0.0\n",
      "market | float64 | 0.0\n",
      "smart_location | float64 | 0.0\n",
      "country_code | float64 | 0.0\n",
      "country | float64 | 0.0\n",
      "latitude | float64 | 0.0\n",
      "longitude | float64 | 0.0\n",
      "is_location_exact | float64 | 0.0\n",
      "property_type | float64 | 0.0\n",
      "room_type | float64 | 0.0\n",
      "accommodates | float64 | 0.0\n",
      "bathrooms | float64 | 0.0\n",
      "bedrooms | float64 | 0.0\n",
      "beds | float64 | 0.0\n",
      "bed_type | float64 | 0.0\n",
      "amenities | float64 | 0.0\n",
      "square_feet | float64 | 0.0\n",
      "price | float64 | 0.0\n",
      "weekly_price | float64 | 0.0\n",
      "monthly_price | float64 | 0.0\n",
      "security_deposit | float64 | 0.0\n",
      "cleaning_fee | float64 | 0.0\n",
      "guests_included | float64 | 0.0\n",
      "extra_people | float64 | 0.0\n",
      "minimum_nights | float64 | 0.0\n",
      "maximum_nights | float64 | 0.0\n",
      "calendar_updated | float64 | 0.0\n",
      "has_availability | float64 | 0.0\n",
      "availability_30 | float64 | 0.0\n",
      "availability_60 | float64 | 0.0\n",
      "availability_90 | float64 | 0.0\n",
      "availability_365 | float64 | 0.0\n",
      "calendar_last_scraped | float64 | 0.0\n",
      "number_of_reviews | float64 | 0.0\n",
      "first_review | float64 | 0.0\n",
      "last_review | float64 | 0.0\n",
      "review_scores_rating | float64 | 0.0\n",
      "review_scores_accuracy | float64 | 0.0\n",
      "review_scores_cleanliness | float64 | 0.0\n",
      "review_scores_checkin | float64 | 0.0\n",
      "review_scores_communication | float64 | 0.0\n",
      "review_scores_location | float64 | 0.0\n",
      "review_scores_value | float64 | 0.0\n",
      "requires_license | float64 | 0.0\n",
      "license | float64 | 0.0\n",
      "jurisdiction_names | float64 | 0.0\n",
      "instant_bookable | float64 | 0.0\n",
      "cancellation_policy | float64 | 0.0\n",
      "require_guest_profile_picture | float64 | 0.0\n",
      "require_guest_phone_verification | float64 | 0.0\n",
      "region_id | float64 | 0.0\n",
      "region_name | float64 | 0.0\n",
      "region_parent_id | float64 | 0.0\n",
      "calculated_host_listings_count | float64 | 0.0\n",
      "reviews_per_month | float64 | 0.0\n",
      "access | float64 | 0.0\n",
      "interaction | float64 | 0.0\n",
      "house_rules | float64 | 0.0\n",
      "neighbourhood_group_cleansed | float64 | 0.0\n",
      "is_business_travel_ready | float64 | 0.0\n",
      "listing_id | int64 | 665257\n",
      "date | object | 2012-10-08\n",
      "reviewer_id | int64 | 2653248\n",
      "reviewer_name | object | Ian\n",
      "comments | object | Comfortable place to stay and very good location.  We had everything we needed for the weekend and enjoyed the delicious fresh eggs each morning!\n"
     ]
    },
    {
     "name": "stderr",
     "output_type": "stream",
     "text": [
      "C:\\Users\\Nivedita Prasad\\Anaconda3\\envs\\py36\\lib\\site-packages\\ipykernel\\__main__.py:2: FutureWarning: get_value is deprecated and will be removed in a future release. Please use .at[] or .iat[] accessors instead\n",
      "  from ipykernel import kernelapp as app\n"
     ]
    }
   ],
   "source": [
    "for col in reviews.columns:\n",
    "    print(col,'|' ,reviews.dtypes[col], '|' , reviews.get_value(5,col))"
   ]
  },
  {
   "cell_type": "code",
   "execution_count": 19,
   "metadata": {},
   "outputs": [],
   "source": [
    "reviews.to_csv(\"D:/Q4_2018/Web Data Management/WDM_Project/WDM-group-5-master/WDM-group-5-master/data/reviews_final.csv\", sep=',', encoding='utf-8')"
   ]
  }
 ],
 "metadata": {
  "kernelspec": {
   "display_name": "Python [conda env:py36]",
   "language": "python",
   "name": "conda-env-py36-py"
  },
  "language_info": {
   "codemirror_mode": {
    "name": "ipython",
    "version": 3
   },
   "file_extension": ".py",
   "mimetype": "text/x-python",
   "name": "python",
   "nbconvert_exporter": "python",
   "pygments_lexer": "ipython3",
   "version": "3.6.5"
  }
 },
 "nbformat": 4,
 "nbformat_minor": 2
}
