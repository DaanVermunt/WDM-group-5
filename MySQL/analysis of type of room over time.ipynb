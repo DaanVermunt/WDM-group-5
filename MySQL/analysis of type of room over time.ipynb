{
 "cells": [
  {
   "cell_type": "markdown",
   "metadata": {},
   "source": [
    "#### Analysis of type of room over time"
   ]
  },
  {
   "cell_type": "code",
   "execution_count": 1,
   "metadata": {},
   "outputs": [
    {
     "name": "stdout",
     "output_type": "stream",
     "text": [
      "[nltk_data] Downloading package punkt to C:\\Users\\Nivedita\n",
      "[nltk_data]     Prasad\\AppData\\Roaming\\nltk_data...\n",
      "[nltk_data]   Package punkt is already up-to-date!\n",
      "[nltk_data] Downloading package stopwords to C:\\Users\\Nivedita\n",
      "[nltk_data]     Prasad\\AppData\\Roaming\\nltk_data...\n",
      "[nltk_data]   Package stopwords is already up-to-date!\n"
     ]
    }
   ],
   "source": [
    "from collections import Counter\n",
    "from itertools import combinations\n",
    "import matplotlib.pyplot as plt\n",
    "import csv\n",
    "import nltk\n",
    "from nltk.corpus import stopwords\n",
    "from nltk.tokenize import word_tokenize\n",
    "import re\n",
    "import pymysql \n",
    "from nltk import FreqDist\n",
    "import pandas as pd\n",
    "import numpy as np\n",
    "from nltk import FreqDist\n",
    "nltk.download('punkt')\n",
    "from nltk.corpus import stopwords\n",
    "nltk.download('stopwords')\n",
    "stopwords = stopwords.words('english')"
   ]
  },
  {
   "cell_type": "code",
   "execution_count": 2,
   "metadata": {},
   "outputs": [
    {
     "name": "stdout",
     "output_type": "stream",
     "text": [
      "2016 Entire home/apt\n",
      "2017 Private room\n"
     ]
    }
   ],
   "source": [
    "# open connection to the database  \n",
    "conn = pymysql.connect(host='localhost',  \n",
    "                       port=3306,  \n",
    "                       user='root',  \n",
    "                       passwd='',  \n",
    "                       db='wdm',  \n",
    "                       charset='utf8')  \n",
    "cur = conn.cursor()  \n",
    "\n",
    "sql = \"select r.year1 ,l.room_type from reviews_redu_room r, listings_redu_room l where r.listing_id = l.id group by l.room_type\"  \n",
    "# rows = session.execute('SELECT listing_id,comments FROM reviews')\n",
    "#cur.execute(sql) \n",
    "cur.execute(sql) \n",
    "\n",
    "\n",
    "\n",
    "# fetch all of the rows from the query\n",
    "rows = cur.fetchall()\n",
    "\n",
    "# print the rows\n",
    "for row in rows :\n",
    "    print(row[0], row[1])"
   ]
  },
  {
   "cell_type": "code",
   "execution_count": 6,
   "metadata": {},
   "outputs": [
    {
     "data": {
      "text/plain": [
       "[(('Entire home/apt', 2016), 1), (('Private room', 2017), 1)]"
      ]
     },
     "execution_count": 6,
     "metadata": {},
     "output_type": "execute_result"
    }
   ],
   "source": [
    "types = []\n",
    "#rooms = ['Entire home', 'Private room', 'Shared room']\n",
    "for row in rows:\n",
    "    room = row[1]\n",
    "    year = row[0]\n",
    "    temp = [room,year]\n",
    "    types.append(temp)\n",
    "\n",
    "popType = Counter()\n",
    "for sub in types:\n",
    "    for comb in combinations(sub,2):\n",
    "        popType[comb] += 1\n",
    "\n",
    "types_count = popType.most_common()\n",
    "types_count\n"
   ]
  }
 ],
 "metadata": {
  "kernelspec": {
   "display_name": "Python [conda env:py36]",
   "language": "python",
   "name": "conda-env-py36-py"
  },
  "language_info": {
   "codemirror_mode": {
    "name": "ipython",
    "version": 3
   },
   "file_extension": ".py",
   "mimetype": "text/x-python",
   "name": "python",
   "nbconvert_exporter": "python",
   "pygments_lexer": "ipython3",
   "version": "3.6.5"
  }
 },
 "nbformat": 4,
 "nbformat_minor": 2
}
