{
 "cells": [
  {
   "cell_type": "code",
   "execution_count": 1,
   "metadata": {},
   "outputs": [
    {
     "name": "stdout",
     "output_type": "stream",
     "text": [
      "[nltk_data] Downloading package punkt to C:\\Users\\Nivedita\n",
      "[nltk_data]     Prasad\\AppData\\Roaming\\nltk_data...\n",
      "[nltk_data]   Package punkt is already up-to-date!\n",
      "[nltk_data] Downloading package stopwords to C:\\Users\\Nivedita\n",
      "[nltk_data]     Prasad\\AppData\\Roaming\\nltk_data...\n",
      "[nltk_data]   Package stopwords is already up-to-date!\n"
     ]
    }
   ],
   "source": [
    "from collections import Counter\n",
    "from itertools import combinations\n",
    "import matplotlib.pyplot as plt\n",
    "import csv\n",
    "import nltk\n",
    "from nltk.corpus import stopwords\n",
    "from nltk.tokenize import word_tokenize\n",
    "import re\n",
    "import pymysql \n",
    "from nltk import FreqDist\n",
    "import pandas as pd\n",
    "import numpy as np\n",
    "from nltk import FreqDist\n",
    "nltk.download('punkt')\n",
    "from nltk.corpus import stopwords\n",
    "nltk.download('stopwords')\n",
    "stopwords = stopwords.words('english')"
   ]
  },
  {
   "cell_type": "code",
   "execution_count": 10,
   "metadata": {},
   "outputs": [
    {
     "name": "stdout",
     "output_type": "stream",
     "text": [
      "CO Denver 7\n",
      "TX Austin 3\n"
     ]
    }
   ],
   "source": [
    "# open connection to the database  \n",
    "conn = pymysql.connect(host='localhost',  \n",
    "                       port=3306,  \n",
    "                       user='root',  \n",
    "                       passwd='',  \n",
    "                       db='wdm',  \n",
    "                       charset='utf8')  \n",
    "cur = conn.cursor()  \n",
    "\n",
    "sql = \"select state, city, month1 from reviews_reduced r, listings_reduced l where r.listing_id = l.id group by l.state\"  \n",
    "# rows = session.execute('SELECT listing_id,comments FROM reviews')\n",
    "#cur.execute(sql) \n",
    "cur.execute(sql) \n",
    "\n",
    "\n",
    "\n",
    "# fetch all of the rows from the query\n",
    "rows = cur.fetchall()\n",
    "\n",
    "# print the rows\n",
    "for row in rows :\n",
    "    print(row[0], row[1], row[2])"
   ]
  },
  {
   "cell_type": "code",
   "execution_count": 13,
   "metadata": {},
   "outputs": [
    {
     "name": "stdout",
     "output_type": "stream",
     "text": [
      "Most popular State\n",
      "[(('TX', 3), 2)]\n",
      "Most popular City\n",
      "[(('Austin', 'TX', 3), 2)]\n"
     ]
    }
   ],
   "source": [
    "#rows = session.execute('SELECT state,city,month FROM reviews')\n",
    "#query 3-popular state/city\n",
    "pop_state = []\n",
    "pop_city = []\n",
    "temp = []\n",
    "for user_row in rows:\n",
    "    state = row[0]\n",
    "    city = row[1]\n",
    "    month = row[2]\n",
    "    temp = [state, month]\n",
    "    pop_state.append(temp)\n",
    "    temp = [city, state, month]\n",
    "    pop_city.append(temp)\n",
    "\n",
    "#popular state\n",
    "popState = Counter()\n",
    "for sub in pop_state:\n",
    "    for comb in combinations(sub,2):\n",
    "        popState[comb] += 1\n",
    "print(\"Most popular State\")\n",
    "print(popState.most_common())\n",
    "\n",
    "#popular city\n",
    "popCity = Counter()\n",
    "for sub in pop_city:\n",
    "    for comb in combinations(sub,3):\n",
    "        popCity[comb] += 1\n",
    "print(\"Most popular City\")\n",
    "print(popCity.most_common())"
   ]
  }
 ],
 "metadata": {
  "kernelspec": {
   "display_name": "Python [conda env:py36]",
   "language": "python",
   "name": "conda-env-py36-py"
  },
  "language_info": {
   "codemirror_mode": {
    "name": "ipython",
    "version": 3
   },
   "file_extension": ".py",
   "mimetype": "text/x-python",
   "name": "python",
   "nbconvert_exporter": "python",
   "pygments_lexer": "ipython3",
   "version": "3.6.5"
  }
 },
 "nbformat": 4,
 "nbformat_minor": 2
}
